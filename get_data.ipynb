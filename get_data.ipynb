{
 "cells": [
  {
   "cell_type": "markdown",
   "metadata": {},
   "source": [
    "# Creating a Hawaiian Pidgin-English Parallel Corpus \n",
    "\n",
    "---"
   ]
  },
  {
   "cell_type": "markdown",
   "metadata": {},
   "source": [
    "## Import packages\n",
    "\n",
    "---"
   ]
  },
  {
   "cell_type": "code",
   "execution_count": 1,
   "metadata": {},
   "outputs": [],
   "source": [
    "import pprint as pp\n",
    "import re\n",
    "import pandas as pd\n",
    "import os\n",
    "import requests\n",
    "from bs4 import BeautifulSoup\n",
    "import numpy as np"
   ]
  },
  {
   "cell_type": "markdown",
   "metadata": {},
   "source": [
    "## Scraping verses from [biblegateway.com](https://www.biblegateway.com/)\n",
    "\n",
    "---\n",
    "\n",
    "According to [Christodouloupoulos and Steedman](https://link.springer.com/article/10.1007/s10579-014-9287-y), the King James Version of the Bible is the oldest translation, and older translations tend to be more literal (2014). Therefore, I chose this translation for the English dataset."
   ]
  },
  {
   "cell_type": "code",
   "execution_count": 2,
   "metadata": {},
   "outputs": [],
   "source": [
    "translation = \"KJV\"\n",
    "# Dictionary with each New Testament book's number of chapters\n",
    "book_chp_dict = {\"Matthew\": 28,\n",
    "\t\t\t\t\t\"Mark\": 16,\n",
    "\t\t\t\t\t\"Luke\": 24,\n",
    "\t\t\t\t\t\"John\": 21,\n",
    "\t\t\t\t\t\"Acts\": 28,\n",
    "\t\t\t\t\t\"Romans\": 16,\n",
    "\t\t\t\t\t\"1 Corinthians\": 16,\n",
    "\t\t\t\t\t\"2 Corinthians\": 13,\n",
    "\t\t\t\t\t\"Galatians\": 6,\n",
    "\t\t\t\t\t\"Ephesians\": 6,\n",
    "\t\t\t\t\t\"Philippians\": 4,\n",
    "\t\t\t\t\t\"Colossians\": 4,\n",
    "\t\t\t\t\t\"1 Thessalonians\": 5, \n",
    "\t\t\t\t\t\"2 Thessalonians\": 3,\n",
    "\t\t\t\t\t\"1 Timothy\": 6,\n",
    "\t\t\t\t\t\"2 Timothy\": 4,\n",
    "\t\t\t\t\t\"Titus\": 3,\n",
    "\t\t\t\t\t\"Philemon\": 1,\n",
    "\t\t\t\t\t\"Hebrews\": 13,\n",
    "\t\t\t\t\t\"James\": 5,\n",
    "\t\t\t\t\t\"1 Peter\": 5,\n",
    "\t\t\t\t\t\"2 Peter\": 3,\n",
    "\t\t\t\t\t\"1 John\": 5,\n",
    "\t\t\t\t\t\"2 John\": 1,\n",
    "\t\t\t\t\t\"3 John\": 1,\n",
    "\t\t\t\t\t\"Jude\": 1,\n",
    "\t\t\t\t\t\"Revelation\": 22}\n",
    "\n",
    "all_text = []\n",
    "\n",
    "for book, chapter_max in book_chp_dict.items():\n",
    "\t\n",
    "\tfor chapter_num in range(1, (chapter_max+1)):\n",
    "\t\tchapter = str(chapter_num)\n",
    "\n",
    "\t\t# Get full URL | Example: https://www.biblegateway.com/passage/?search=Matthew+1&version=HWP&interface=print\n",
    "\t\tfull_url = f\"https://www.biblegateway.com/passage/?search={book}+{chapter}&version={translation}&interface=print\" \n",
    "\n",
    "\t\tpage = requests.get(full_url)\n",
    "\t\tsoup = BeautifulSoup(page.text, \"html.parser\")\n",
    "\n",
    "\t\tchapter_text = soup.find_all('p') # All verses are in <p>\n",
    "\t\tall_text.extend(chapter_text)\n",
    "\n",
    "original_text = all_text\n"
   ]
  },
  {
   "cell_type": "markdown",
   "metadata": {},
   "source": [
    "To collect the Hawaiian Pidgin version, replace the ``translation`` variable and ``book_chp_dict`` dictionary with the following:"
   ]
  },
  {
   "cell_type": "code",
   "execution_count": 3,
   "metadata": {},
   "outputs": [],
   "source": [
    "translation = \"HWP\"\n",
    "\n",
    "book_chp_dict = {\"Matthew\": 28,\n",
    "\"Mark\": 16,\n",
    "\"Luke\": 24,\n",
    "\"John\": 21,\n",
    "\"Jesus Guys\": 28,\n",
    "\"Fo Da Rome Peopo\": 16,\n",
    "\"Numba 1 Fo Da Corint Peopo\": 16,\n",
    "\"Numba 2 Fo Da Corint Peopo\": 13,\n",
    "\"Fo Da Galatia Peopo\": 6,\n",
    "\"Fo Da Efesus Peopo\": 6,\n",
    "\"Fo Da Philippi Peopo\": 4,\n",
    "\"Fo Da Colosse Peopo\": 4,\n",
    "\"Numba 1 Fo Da Tessalonika Peopo\": 5, \n",
    "\"Numba 2 Fo Da Tessalonika Peopo\": 3,\n",
    "\"1 Timoty\": 6,\n",
    "\"2 Timoty\": 4,\n",
    "\"Fo Titus\": 3,\n",
    "\"Fo Filemon\": 1,\n",
    "\"Fo Da Hebrew Peopo\": 13,\n",
    "\"From James\": 5,\n",
    "\"Numba 1 From Peter\": 5,\n",
    "\"Numba 2 From Peter\": 3,\n",
    "\"Numba 1 From John\": 5,\n",
    "\"Numba 2 From John\": 1,\n",
    "\"Numba 3 From John\": 1,\n",
    "\"From Jude\": 1,\n",
    "\"Wat Jesus Show John\": 22}"
   ]
  },
  {
   "cell_type": "markdown",
   "metadata": {},
   "source": [
    "## Cleaning the data\n",
    "\n",
    "---\n",
    "\n",
    "The code below separates multiple verses that might be in the same ``<p>`` tag."
   ]
  },
  {
   "cell_type": "code",
   "execution_count": 4,
   "metadata": {},
   "outputs": [],
   "source": [
    "all_text_long = []\n",
    "for text in original_text:\n",
    "    text = str(text)\n",
    "    text_split = text.split(\">\")  \n",
    "    all_text_long.extend(text_split)"
   ]
  },
  {
   "cell_type": "markdown",
   "metadata": {},
   "source": [
    "This is the start of preparing a two-column dataset: one column with **verse numbers** and one column with actual **verses**. The verse numbers will be useful for joining the English and Hawaiian Pidgin dataset together later."
   ]
  },
  {
   "cell_type": "code",
   "execution_count": 5,
   "metadata": {},
   "outputs": [],
   "source": [
    "verse_num_list = []\n",
    "verse_list = []\n",
    "verse_temp = \"\"\n",
    "\n",
    "# Regex to find book-chapter-verse\n",
    "verse_num_regex = re.compile(r\"(\\w+-\\d+-(\\d+))\")\n",
    "\n",
    "all_text_long = [x.strip().rstrip(\"<sup\") for x in all_text_long]\n",
    "\n",
    "# Removing beginning and ending tags\n",
    "for text in all_text_long:\n",
    "    test_text = str(text)\n",
    "    if test_text[:17] == '<span class=\"text':\n",
    "        result = verse_num_regex.search(test_text)\n",
    "        verse_num = result.group(0)\n",
    "    elif test_text[-6:] == \"</span\":\n",
    "        verse_temp = test_text[:-6]\n",
    "        verse_num_list.append(verse_num)\n",
    "        verse_list.append(verse_temp)\n",
    "    elif '<sup class=\"footnote\" data-fn=\"' in text:\n",
    "        verse_temp = test_text[:-128]\n",
    "        verse_num_list.append(verse_num)\n",
    "        verse_list.append(verse_temp)\n",
    "    elif '<sup class=\"crossreference\" data-cr=\"' in text:\n",
    "        verse_temp = test_text[:-141]\n",
    "        verse_num_list.append(verse_num)\n",
    "        verse_list.append(verse_temp)"
   ]
  },
  {
   "cell_type": "code",
   "execution_count": 6,
   "metadata": {},
   "outputs": [],
   "source": [
    "kjv_df = pd.DataFrame({\"verse_num\": verse_num_list,\n",
    "                        \"verses\": verse_list})\n",
    "\n",
    "kjv_df = kjv_df.dropna()\n",
    "kjv_df = kjv_df.astype(str)\n",
    "\n",
    "# Replacing smart quotes with regular quotes\n",
    "kjv_df[\"verses\"] = kjv_df[\"verses\"].str.replace(\"“\", '\"')\n",
    "kjv_df[\"verses\"] = kjv_df[\"verses\"].str.replace(\"”\", '\"')\n",
    "kjv_df[\"verses\"] = kjv_df[\"verses\"].str.replace(\"’\", \"'\")\n",
    "kjv_df[\"verses\"] = kjv_df[\"verses\"].str.replace(\"‘\", \"'\")\n",
    "kjv_df[\"verses\"] = kjv_df[\"verses\"].str.replace(\"<sup\", \"\")\n",
    "kjv_df[\"verses\"] = kjv_df[\"verses\"].str.strip()"
   ]
  },
  {
   "cell_type": "markdown",
   "metadata": {},
   "source": [
    "This joins multi-line verses, such as those with many quotes or line breaks."
   ]
  },
  {
   "cell_type": "code",
   "execution_count": 7,
   "metadata": {},
   "outputs": [],
   "source": [
    "verse_list = kjv_df[\"verses\"].tolist()\n",
    "verse_num_list = kjv_df[\"verse_num\"].tolist()\n",
    "\n",
    "current_verse = \"\"\n",
    "next_verse = \"\"\n",
    "temp_verse = \"\"\n",
    "\n",
    "verse_list_clean = []\n",
    "verse_num_list_clean = []\n",
    "\n",
    "for i in range(len(verse_num_list)):\n",
    "    \n",
    "    next_verse = verse_num_list[i]\n",
    "\n",
    "    # Add full verses to list\n",
    "    if next_verse != current_verse and i != 0:\n",
    "        verse_list_clean.append(temp_verse.strip())\n",
    "        verse_num_list_clean.append(verse_num_list[i-1])\n",
    "        temp_verse = str(verse_list[i])\n",
    "\n",
    "    # Combine parts of same verse together\n",
    "    elif next_verse == current_verse and str(verse_list[i]).isdigit() == False:\n",
    "        temp_verse = str(temp_verse) + \" \" + str(verse_list[i])\n",
    "    \n",
    "    current_verse = next_verse\n",
    "\n",
    "kjv_df = pd.DataFrame({\"verse_num\": verse_num_list_clean,\n",
    "                                \"verses\": verse_list_clean})\n",
    "kjv_df.to_csv(r\".\\kjv_bible_clean.csv\",\n",
    "                                index=False)"
   ]
  },
  {
   "cell_type": "markdown",
   "metadata": {},
   "source": [
    "## Joining the datasets together\n",
    "\n",
    "Once I ran the above steps with both the King James Version and Hawaiian Pidgin Version, I merged the two datasets on the verse numbers."
   ]
  },
  {
   "cell_type": "code",
   "execution_count": 9,
   "metadata": {},
   "outputs": [],
   "source": [
    "hwp_df = pd.read_csv(r\".\\hwp_bible_clean.csv\")\n",
    "kjv_df = pd.read_csv(r\".\\kjv_bible_clean.csv\")\n",
    "\n",
    "full_df = kjv_df.merge(hwp_df,\n",
    "                        how=\"inner\",\n",
    "                        on=\"verse_num\",\n",
    "                        suffixes=('_eng', '_hwp'))\n",
    "\n",
    "full_df = full_df.drop(columns=\"verse_num\")     # No need verse numbers any more\n",
    "full_df = full_df.rename(columns={\"verses_eng\": \"eng\", \"verses_hwp\": \"hwp\"})\n",
    "\n",
    "full_df.to_csv(r\".\\full_data.csv\",\n",
    "                                index=False)"
   ]
  }
 ],
 "metadata": {
  "kernelspec": {
   "display_name": "Python 3",
   "language": "python",
   "name": "python3"
  },
  "language_info": {
   "codemirror_mode": {
    "name": "ipython",
    "version": 3
   },
   "file_extension": ".py",
   "mimetype": "text/x-python",
   "name": "python",
   "nbconvert_exporter": "python",
   "pygments_lexer": "ipython3",
   "version": "3.11.6"
  },
  "orig_nbformat": 4
 },
 "nbformat": 4,
 "nbformat_minor": 2
}
